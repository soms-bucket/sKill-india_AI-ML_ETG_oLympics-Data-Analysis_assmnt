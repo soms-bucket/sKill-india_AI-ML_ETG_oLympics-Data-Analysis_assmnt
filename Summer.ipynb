{
 "cells": [
  {
   "cell_type": "markdown",
   "metadata": {},
   "source": [
    "# Summer Olympics Data Analysis Assignment"
   ]
  },
  {
   "cell_type": "markdown",
   "metadata": {},
   "source": [
    "### 1. In how many cities Summer Olympics is held so far?"
   ]
  },
  {
   "cell_type": "code",
   "execution_count": 1,
   "metadata": {},
   "outputs": [
    {
     "name": "stdout",
     "output_type": "stream",
     "text": [
      "\n",
      "In 22 cities Summer Olympics was held.\n",
      "\n"
     ]
    }
   ],
   "source": [
    "import pandas as pd\n",
    "\n",
    "df=pd.read_csv(\"summer.csv\")\n",
    "\n",
    "#df.isnull().sum() \n",
    "\n",
    "df=df[\"City\"].unique()\n",
    "\n",
    "cnt=str(len(df))\n",
    "\n",
    "print(\"\\nIn \"+cnt+\" cities Summer Olympics was held.\\n\")\n",
    "\n"
   ]
  },
  {
   "cell_type": "code",
   "execution_count": null,
   "metadata": {},
   "outputs": [],
   "source": []
  },
  {
   "cell_type": "code",
   "execution_count": null,
   "metadata": {},
   "outputs": [],
   "source": []
  },
  {
   "cell_type": "markdown",
   "metadata": {},
   "source": [
    "### 2. Which sport is having most number of Gold Medals so far? (Top 5)"
   ]
  },
  {
   "cell_type": "code",
   "execution_count": 2,
   "metadata": {},
   "outputs": [
    {
     "name": "stdout",
     "output_type": "stream",
     "text": [
      "     Sport  Gold Medal\n",
      "  Aquatics        1421\n",
      " Athletics        1215\n",
      "    Rowing         890\n",
      "Gymnastics         820\n",
      "   Fencing         552\n"
     ]
    },
    {
     "data": {
      "image/png": "[encoded data removed]",
      "text/plain": [
       "<Figure size 576x432 with 1 Axes>"
      ]
     },
     "metadata": {
      "needs_background": "light"
     },
     "output_type": "display_data"
    }
   ],
   "source": [
    "import pandas as pd\n",
    "import matplotlib.pyplot as plt\n",
    "\n",
    "df=pd.read_csv(\"summer.csv\")\n",
    "\n",
    "df_sp=df[\"Sport\"].unique()\n",
    "\n",
    "df_me=df[df[\"Medal\"] == \"Gold\" ]\n",
    "\n",
    "gld_data=[]\n",
    "\n",
    "for sprt in df_sp:\n",
    "    \n",
    "    gld_data.append([sprt,len(df_me[df_me[\"Sport\"] == sprt ])])\n",
    "    \n",
    "\n",
    "\n",
    "gld_data=pd.DataFrame(gld_data , columns=[\"Sport\",\"Gold Medal\"]).sort_values(by = \"Gold Medal\" , ascending = False).head()\n",
    "\n",
    "\n",
    "print(gld_data.to_string(index=False))\n",
    "\n",
    "#gld_data.plot(x = \"Sport\" , y = \"Gold Medal\" , kind= \"bar\" , figsize = (8,5))\n",
    "\n",
    "plt.figure(figsize=(8, 6))\n",
    "\n",
    "plt.xlabel(\"Sport\")\n",
    "plt.ylabel(\"Gold Medal\")\n",
    "plt.title(\"Sport is having most number of Gold Medals\")\n",
    "c=[\"blue\",\"orange\",\"grey\",\"green\",\"red\"]\n",
    "\n",
    "plt.bar(gld_data[\"Sport\"], gld_data[\"Gold Medal\"],0.6,color=c)\n",
    "\n",
    "plt.show()\n"
   ]
  },
  {
   "cell_type": "code",
   "execution_count": null,
   "metadata": {},
   "outputs": [],
   "source": []
  },
  {
   "cell_type": "markdown",
   "metadata": {},
   "source": [
    "### 3. Which sport is having most number of medals so far? (Top 5)"
   ]
  },
  {
   "cell_type": "code",
   "execution_count": 4,
   "metadata": {},
   "outputs": [
    {
     "name": "stdout",
     "output_type": "stream",
     "text": [
      "     Sport  Medal\n",
      "  Aquatics   4170\n",
      " Athletics   3638\n",
      "    Rowing   2667\n",
      "Gymnastics   2307\n",
      "   Fencing   1613\n"
     ]
    },
    {
     "data": {
      "image/png": "[encoded data removed]",
      "text/plain": [
       "<Figure size 576x432 with 1 Axes>"
      ]
     },
     "metadata": {
      "needs_background": "light"
     },
     "output_type": "display_data"
    }
   ],
   "source": [
    "import pandas as pd\n",
    "import matplotlib.pyplot as plt\n",
    "\n",
    "df=pd.read_csv(\"summer.csv\")\n",
    "\n",
    "df_sp=df[\"Sport\"].unique()\n",
    "\n",
    "\n",
    "mdl_data=[]\n",
    "\n",
    "for sprt in df_sp:\n",
    "    \n",
    "    mdl_data.append([sprt,len(df[df[\"Sport\"] == sprt ])])\n",
    "\n",
    "\n",
    "mdl_data=pd.DataFrame(mdl_data , columns=[\"Sport\",\"Medal\"]).sort_values(by = \"Medal\" , ascending = False).head()\n",
    "\n",
    "\n",
    "print(mdl_data.to_string(index=False))\n",
    "\n",
    "#mdl_data.plot(x = \"Sport\" , y = \"Medal\" , kind= \"bar\" , figsize = (8,5))\n",
    "\n",
    "plt.figure(figsize=(8, 6))\n",
    "\n",
    "plt.xlabel(\"Sport\")\n",
    "plt.ylabel(\"Medal\")\n",
    "plt.title(\"Sport is having most number of Medals\")\n",
    "c=[\"blue\",\"orange\",\"grey\",\"green\",\"red\"]\n",
    "\n",
    "plt.bar(mdl_data[\"Sport\"], mdl_data[\"Medal\"],0.6,color=c)\n",
    "\n",
    "plt.show()"
   ]
  },
  {
   "cell_type": "code",
   "execution_count": null,
   "metadata": {},
   "outputs": [],
   "source": []
  },
  {
   "cell_type": "code",
   "execution_count": null,
   "metadata": {},
   "outputs": [],
   "source": []
  },
  {
   "cell_type": "markdown",
   "metadata": {},
   "source": [
    "### 4. Which player has won most number of medals? (Top 5)"
   ]
  },
  {
   "cell_type": "code",
   "execution_count": 5,
   "metadata": {},
   "outputs": [
    {
     "name": "stdout",
     "output_type": "stream",
     "text": [
      "               Name  Medal\n",
      "     PHELPS Michael     22\n",
      "    LATYNINA Larisa     18\n",
      "  ANDRIANOV Nikolay     15\n",
      "        ONO Takashi     13\n",
      "MANGIAROTTI Edoardo     13\n"
     ]
    },
    {
     "data": {
      "image/png": "[encoded data removed]",
      "text/plain": [
       "<Figure size 720x432 with 1 Axes>"
      ]
     },
     "metadata": {
      "needs_background": "light"
     },
     "output_type": "display_data"
    }
   ],
   "source": [
    "import pandas as pd\n",
    "import matplotlib.pyplot as plt\n",
    "\n",
    "df=pd.read_csv(\"summer.csv\")\n",
    "\n",
    "df_ath=df[\"Athlete\"].unique()\n",
    "\n",
    "ath_data=[]\n",
    "\n",
    "for ath in df_ath:\n",
    "    \n",
    "    ath_data.append([ath.replace(\", \",\" \"),len(df[df[\"Athlete\"] == ath ])])\n",
    "    \n",
    "ath_data=pd.DataFrame(ath_data , columns=[\"Name\",\"Medal\"]).sort_values(by = \"Medal\" , ascending = False).head()\n",
    "\n",
    "\n",
    "print(ath_data.to_string(index=False))\n",
    "\n",
    "#ath_data.plot(x = \"Name\" , y = \"Medal\" , kind= \"bar\" , figsize = (8,5))\n",
    "\n",
    "plt.figure(figsize=(10, 6))\n",
    "\n",
    "plt.xlabel(\"Name\")\n",
    "plt.ylabel(\"Medal\")\n",
    "plt.title(\"Player has won most number of Medals\")\n",
    "c=[\"blue\",\"orange\",\"grey\",\"green\",\"red\"]\n",
    "\n",
    "plt.bar(ath_data[\"Name\"], ath_data[\"Medal\"],0.6,color=c)\n",
    "\n",
    "plt.show()\n",
    "\n"
   ]
  },
  {
   "cell_type": "code",
   "execution_count": 16,
   "metadata": {},
   "outputs": [],
   "source": [
    "#df_me=df[df[\"Medal\"] == \"Gold\" ]\n",
    "\n",
    "#len(df_me[df_me[\"Athlete\"] == \"PHELPS, Michael\" ])\n",
    "\n",
    "#ath_data\n"
   ]
  },
  {
   "cell_type": "markdown",
   "metadata": {},
   "source": [
    "### 5. Which player has won most number Gold Medals of medals? (Top 5)"
   ]
  },
  {
   "cell_type": "code",
   "execution_count": 6,
   "metadata": {},
   "outputs": [
    {
     "name": "stdout",
     "output_type": "stream",
     "text": [
      "           Name  Gold Medal\n",
      " PHELPS Michael          18\n",
      "     LEWIS Carl           9\n",
      "     SPITZ Mark           9\n",
      "    NURMI Paavo           9\n",
      "LATYNINA Larisa           9\n"
     ]
    },
    {
     "data": {
      "image/png": "[encoded data removed]",
      "text/plain": [
       "<Figure size 720x432 with 1 Axes>"
      ]
     },
     "metadata": {
      "needs_background": "light"
     },
     "output_type": "display_data"
    }
   ],
   "source": [
    "import pandas as pd\n",
    "import matplotlib.pyplot as plt\n",
    "\n",
    "df=pd.read_csv(\"summer.csv\")\n",
    "\n",
    "df_ath=df[\"Athlete\"].unique()\n",
    "\n",
    "df_me=df[df[\"Medal\"] == \"Gold\" ]\n",
    "\n",
    "ath_GM_data=[]\n",
    "\n",
    "for ath_m in df_ath:\n",
    "    \n",
    "    ath_GM_data.append([ath_m.replace(\", \",\" \"),len(df_me[df_me[\"Athlete\"] == ath_m ])])\n",
    "    \n",
    "ath_GM_data=pd.DataFrame(ath_GM_data , columns=[\"Name\",\"Gold Medal\"]).sort_values(by = \"Gold Medal\" , ascending = False).head()\n",
    "\n",
    "\n",
    "print(ath_GM_data.to_string(index=False))\n",
    "\n",
    "#ath_GM_data.plot(x = \"Name\" , y = \"Gold Medal\" , kind= \"bar\" , figsize = (8,5))\n",
    "\n",
    "plt.figure(figsize=(10, 6))\n",
    "\n",
    "plt.xlabel(\"Name\")\n",
    "plt.ylabel(\"Gold Medal\")\n",
    "plt.title(\"Player has won most number of Gold Medals\")\n",
    "c=[\"blue\",\"orange\",\"grey\",\"green\",\"red\"]\n",
    "\n",
    "plt.bar(ath_GM_data[\"Name\"], ath_GM_data[\"Gold Medal\"],0.6,color=c)\n",
    "\n",
    "plt.show()\n"
   ]
  },
  {
   "cell_type": "code",
   "execution_count": null,
   "metadata": {},
   "outputs": [],
   "source": []
  },
  {
   "cell_type": "markdown",
   "metadata": {},
   "source": [
    "### 6. In which year India won first Gold Medal in Summer Olympics?"
   ]
  },
  {
   "cell_type": "code",
   "execution_count": 7,
   "metadata": {},
   "outputs": [
    {
     "name": "stdout",
     "output_type": "stream",
     "text": [
      "\n",
      "In 1928 India won first Gold Medal in Summer Olympics\n",
      "\n"
     ]
    }
   ],
   "source": [
    "import pandas as pd\n",
    "import matplotlib.pyplot as plt\n",
    "\n",
    "df=pd.read_csv(\"summer.csv\")\n",
    "\n",
    "df_me=df[df[\"Medal\"] == \"Gold\" ]\n",
    "\n",
    "IND_GLD=df_me[df_me[\"Country\"] == \"IND\"]\n",
    "\n",
    "\n",
    "IND_GLD=list(IND_GLD[\"Year\"])\n",
    "\n",
    "IND_GLD=IND_GLD[0]\n",
    "\n",
    "#IND_GLD\n",
    "\n",
    "print(\"\\nIn\",IND_GLD,\"India won first Gold Medal in Summer Olympics\\n\")\n",
    "\n"
   ]
  },
  {
   "cell_type": "code",
   "execution_count": null,
   "metadata": {},
   "outputs": [],
   "source": []
  },
  {
   "cell_type": "markdown",
   "metadata": {},
   "source": [
    "### 7. Which event is most popular in terms on number of players? (Top 5)"
   ]
  },
  {
   "cell_type": "code",
   "execution_count": 71,
   "metadata": {},
   "outputs": [
    {
     "name": "stdout",
     "output_type": "stream",
     "text": [
      "           Event  Participant\n",
      "        Football         1497\n",
      "          Hockey         1422\n",
      "Team Competition         1147\n",
      "      Basketball         1012\n",
      "        Handball          973\n"
     ]
    },
    {
     "data": {
      "image/png": "[encoded data removed]",
      "text/plain": [
       "<Figure size 648x432 with 1 Axes>"
      ]
     },
     "metadata": {
      "needs_background": "light"
     },
     "output_type": "display_data"
    }
   ],
   "source": [
    "import pandas as pd\n",
    "import matplotlib.pyplot as plt\n",
    "\n",
    "df=pd.read_csv(\"summer.csv\")\n",
    "\n",
    "df_ev=df[\"Event\"].unique()\n",
    "\n",
    "\n",
    "evnt_data=[]\n",
    "\n",
    "for evnt in df_ev:\n",
    "    \n",
    "    evnt_data.append([evnt,len(df[df[\"Event\"] == evnt ])])\n",
    "    \n",
    "\n",
    "evnt_data=pd.DataFrame(evnt_data , columns=[\"Event\",\"Participant\"]).sort_values(by = \"Participant\" , ascending = False).head()\n",
    "\n",
    "\n",
    "print(evnt_data.to_string(index=False))\n",
    "\n",
    "#evnt_data.plot(x = \"Event\" , y = \"Participant\" , kind= \"bar\" , figsize = (8,5))\n",
    "\n",
    "plt.figure(figsize=(9, 6))\n",
    "\n",
    "plt.xlabel(\"Event\")\n",
    "plt.ylabel(\"Participant\")\n",
    "plt.title(\"Event is most popular in terms on number of Players\")\n",
    "c=[\"blue\",\"orange\",\"grey\",\"green\",\"red\"]\n",
    "\n",
    "plt.bar(evnt_data[\"Event\"], evnt_data[\"Participant\"],0.6,color=c)\n",
    "\n",
    "plt.show()"
   ]
  },
  {
   "cell_type": "code",
   "execution_count": null,
   "metadata": {},
   "outputs": [],
   "source": []
  },
  {
   "cell_type": "markdown",
   "metadata": {},
   "source": [
    "### 8. Which sport is having most female Gold Medalists? (Top 5)"
   ]
  },
  {
   "cell_type": "code",
   "execution_count": 8,
   "metadata": {},
   "outputs": [
    {
     "name": "stdout",
     "output_type": "stream",
     "text": [
      "     Sport  Female Gold Medal\n",
      "  Aquatics                589\n",
      " Athletics                389\n",
      "Gymnastics                268\n",
      "    Rowing                217\n",
      "Volleyball                166\n"
     ]
    },
    {
     "data": {
      "image/png": "[encoded data removed]",
      "text/plain": [
       "<Figure size 720x504 with 1 Axes>"
      ]
     },
     "metadata": {
      "needs_background": "light"
     },
     "output_type": "display_data"
    }
   ],
   "source": [
    "import pandas as pd\n",
    "import matplotlib.pyplot as plt\n",
    "\n",
    "df=pd.read_csv(\"summer.csv\")\n",
    "\n",
    "df_sp=df[\"Sport\"].unique()\n",
    "\n",
    "df_me = df[df[\"Medal\"] == \"Gold\" ]\n",
    "\n",
    "df_gn = df_me[df_me[\"Gender\"] == \"Women\"]\n",
    "\n",
    "gld_fm_data=[]\n",
    "\n",
    "for sprt in df_sp:\n",
    "    \n",
    "    gld_fm_data.append([sprt,len(df_gn[df_gn[\"Sport\"] == sprt ])])\n",
    "\n",
    "    \n",
    "gld_fm_data = pd.DataFrame(gld_fm_data , columns=[\"Sport\",\"Female Gold Medal\"]).sort_values(by = \"Female Gold Medal\" , ascending = False).head()\n",
    "\n",
    "\n",
    "print(gld_fm_data.to_string(index=False))\n",
    "\n",
    "\n",
    "#gld_fm_data.plot(x = \"Sport\" , y = \"Female Gold Medal\" , kind= \"bar\" , figsize = (8,5))\n",
    "\n",
    "\n",
    "plt.figure(figsize=(10, 7))\n",
    "\n",
    "plt.xlabel(\"Sport\")\n",
    "plt.ylabel(\"Female Gold Medal\")\n",
    "plt.title(\"Sport is having most Female Gold Medalists\")\n",
    "c=[\"blue\",\"orange\",\"grey\",\"green\",\"red\"]\n",
    "\n",
    "plt.bar(gld_fm_data[\"Sport\"], gld_fm_data[\"Female Gold Medal\"],0.6,color=c)\n",
    "\n",
    "plt.show()\n",
    "\n"
   ]
  },
  {
   "cell_type": "code",
   "execution_count": null,
   "metadata": {},
   "outputs": [],
   "source": []
  }
 ],
 "metadata": {
  "kernelspec": {
   "display_name": "Python 3",
   "language": "python",
   "name": "python3"
  },
  "language_info": {
   "codemirror_mode": {
    "name": "ipython",
    "version": 3
   },
   "file_extension": ".py",
   "mimetype": "text/x-python",
   "name": "python",
   "nbconvert_exporter": "python",
   "pygments_lexer": "ipython3",
   "version": "3.8.8"
  }
 },
 "nbformat": 4,
 "nbformat_minor": 2
}
